{
 "cells": [
  {
   "cell_type": "code",
   "execution_count": 23,
   "metadata": {},
   "outputs": [],
   "source": [
    "from nltk import word_tokenize\n",
    "from nltk.tokenize import TweetTokenizer\n",
    "from nltk.corpus import stopwords\n",
    "from nltk.stem.porter import PorterStemmer\n",
    "\n",
    "import pandas as pd\n",
    "\n",
    "from collections import Counter\n",
    "\n",
    "import string"
   ]
  },
  {
   "cell_type": "code",
   "execution_count": 2,
   "metadata": {},
   "outputs": [],
   "source": [
    "location = './twitter_data/train2017.tsv'\n",
    "df = pd.read_csv(location , sep=\"\\t\" , header = None)"
   ]
  },
  {
   "cell_type": "code",
   "execution_count": 36,
   "metadata": {},
   "outputs": [
    {
     "name": "stdout",
     "output_type": "stream",
     "text": [
      "['gas', 'by', 'my', 'house', 'hit', '$', '3.39', '!', '!', '!', \"i'm\", 'going', 'to', 'chapel', 'hill', 'on', 'sat', '.', ':)']\n",
      "['theo', 'walcott', 'is', 'still', 'shit', ',', 'watch', 'rafa', 'and', 'johnny', 'deal', 'with', 'him', 'on', 'saturday', '.']\n",
      "['its', 'not', 'that', \"i'm\", 'a', 'gsp', 'fan', ',', 'i', 'just', 'hate', 'nick', 'diaz', '.', \"can't\", 'wait', 'for', 'february', '.']\n",
      "['iranian', 'general', 'says', \"israel's\", 'iron', 'dome', \"can't\", 'deal', 'with', 'their', 'missiles', '(', 'keep', 'talking', 'like', 'that', 'and', 'we', 'may', 'end', 'up', 'finding', 'out', ')']\n",
      "['tehran', ',', 'mon', 'amour', ':', 'obama', 'tried', 'to', 'establish', 'ties', 'with', 'the', 'mullahs', 'http://t.co/TZZzrrKa', 'via', 'no', 'barack', 'obama', '-', 'vote', 'mitt', 'romney']\n",
      "['i', 'sat', 'through', 'this', 'whole', 'movie', 'just', 'for', 'harry', 'and', 'ron', 'at', 'christmas', '.', 'ohlawd']\n",
      "['with', 'j', 'davlar', '11th', '.', 'main', 'rivals', 'are', 'team', 'poland', '.', 'hopefully', 'we', 'an', 'make', 'it', 'a', 'successful', 'end', 'to', 'a', 'tough', 'week', 'of', 'training', 'tomorrow', '.']\n",
      "['talking', 'about', \"act's\", '&', '&', \"sat's\", ',', 'deciding', 'where', 'i', 'want', 'to', 'go', 'to', 'college', ',', 'applying', 'to', 'colleges', 'and', 'everything', 'about', 'college', 'stresses', 'me', 'out', '.']\n",
      "['why', 'is', '\\\\', '\"', '\"', 'happy', 'valentines', 'day', '\\\\', '\"', '\"', 'trending', '?', \"it's\", 'on', 'the', '14th', 'of', 'february', 'not', '12th', 'of', 'june', 'smh', '..']\n",
      "['they', 'may', 'have', 'a', 'superbowl', 'in', 'dallas', ',', 'but', 'dallas', \"ain't\", 'winning', 'a', 'superbowl', '.', 'not', 'with', 'that', 'quarterback', 'and', 'owner', '.']\n",
      "['im', 'bringing', 'the', 'monster', 'load', 'of', 'candy', 'tomorrow', ',', 'i', 'just', 'hope', 'it', \"doesn't\", 'get', 'all', 'squiched']\n",
      "['apple', 'software', ',', 'retail', 'chiefs', 'out', 'in', 'overhaul', ':', 'san', 'francisco', 'apple', 'inc', 'ceo', 'tim', 'cook', 'on', 'monday', 'replaced', 'the', 'heads', '...', 'http://t.co/X49ZEOsG']\n",
      "['i', 'just', 'watched', 'it', '!', \"sridevi's\", 'comeback', '...', 'u', 'remember', 'her', 'from', 'the', '90s', '?', '?', 'sun', 'mornings', 'on', 'nta', ';)']\n",
      "['one', 'of', 'my', 'best', '8th', 'graders', 'kory', 'was', 'excited', 'after', 'his', 'touchdown', 'today', '!', '!', 'he', 'did', 'the', 'victor', 'cruz', '!', '!', 'lol', 'http://t.co/tqORFrXB']\n",
      "['#livewire', 'nadal', 'confirmed', 'for', 'mexican', 'open', 'in', 'february', ':', 'rafael', 'nadal', 'is', 'set', 'to', 'play', 'at', 'the', 'me', '...', 'http://t.co/zgUXpcnC', '#livewireathletics']\n",
      "['i', 'didnt', 'want', 'to', 'just', 'pop', 'up', '...', 'but', 'yep', 'we', 'have', 'chapel', 'hill', 'next', 'wednesday', 'you', 'should', 'come', '..', 'and', 'shes', 'great', 'ill', 'tell', 'her', 'you', 'asked']\n",
      "['hmmm', 'november', 'is', 'an', 'odd', 'release', 'date', 'if', 'true', 'but', 'if', 'it', 'becomes', 'big', 'enough', 'maybe', 'she', 'could', 'sing', 'it', 'at', 'grammys']\n",
      "['#iran', 'us', 'delisting', 'mko', 'from', 'global', 'terrorists', 'list', 'in', 'line', 'with', 'iran', 'campaign', ':', 'tehran', ',', 'oct', '30', ',', 'irna', '-', '-', 'secretary', '...', 'http://t.co/9wWvxEbf']\n",
      "['serge', 'is', 'amazing', '...', 'like', 'hes', 'actually', 'a', 'god', 'the', 'lanky', 'sex', 'god', '...', 'i', 'saw', 'kasabian', 'and', 'noel', 'together', 'in', 'august', '.', 'it', 'was', 'amazing', '.']\n",
      "['larry', 'bird', 'is', 'ranked', '4th', 'all-time', 'not', 'including', 'lebron', 'or', 'kobe', 'just', 'sayin', '...']\n",
      "\n",
      "\n",
      "[['gas', 'house', 'hit', 'going', 'chapel', 'hill', 'sat'], ['theo', 'walcott', 'still', 'shit', 'watch', 'rafa', 'johnny', 'deal', 'saturday'], ['gsp', 'fan', 'hate', 'nick', 'diaz', 'cant', 'wait', 'february'], ['iranian', 'general', 'says', 'israels', 'iron', 'dome', 'cant', 'deal', 'missiles', 'keep', 'talking', 'like', 'may', 'end', 'finding'], ['tehran', 'mon', 'amour', 'obama', 'tried', 'establish', 'ties', 'mullahs', 'httptcoTZZzrrKa', 'via', 'barack', 'obama', 'vote', 'mitt', 'romney'], ['sat', 'whole', 'movie', 'harry', 'ron', 'christmas', 'ohlawd'], ['j', 'davlar', 'main', 'rivals', 'team', 'poland', 'hopefully', 'make', 'successful', 'end', 'tough', 'week', 'training', 'tomorrow'], ['talking', 'acts', 'sats', 'deciding', 'want', 'go', 'college', 'applying', 'colleges', 'everything', 'college', 'stresses'], ['happy', 'valentines', 'day', 'trending', 'february', 'june', 'smh'], ['may', 'superbowl', 'dallas', 'dallas', 'aint', 'winning', 'superbowl', 'quarterback', 'owner'], ['im', 'bringing', 'monster', 'load', 'candy', 'tomorrow', 'hope', 'get', 'squiched'], ['apple', 'software', 'retail', 'chiefs', 'overhaul', 'san', 'francisco', 'apple', 'inc', 'ceo', 'tim', 'cook', 'monday', 'replaced', 'heads'], ['watched', 'sridevis', 'comeback', 'u', 'remember', 'sun', 'mornings', 'nta'], ['one', 'best', 'graders', 'kory', 'excited', 'touchdown', 'today', 'victor', 'cruz', 'lol', 'httptcotqORFrXB'], ['livewire', 'nadal', 'confirmed', 'mexican', 'open', 'february', 'rafael', 'nadal', 'set', 'play', 'httptcozgUXpcnC', 'livewireathletics'], ['didnt', 'want', 'pop', 'yep', 'chapel', 'hill', 'next', 'wednesday', 'come', 'shes', 'great', 'ill', 'tell', 'asked'], ['hmmm', 'november', 'odd', 'release', 'date', 'true', 'becomes', 'big', 'enough', 'maybe', 'could', 'sing', 'grammys'], ['iran', 'us', 'delisting', 'mko', 'global', 'terrorists', 'list', 'line', 'iran', 'campaign', 'tehran', 'oct', 'irna', 'secretary'], ['serge', 'amazing', 'like', 'hes', 'actually', 'god', 'lanky', 'sex', 'god', 'saw', 'kasabian', 'noel', 'together', 'august', 'amazing'], ['larry', 'bird', 'ranked', 'alltime', 'including', 'lebron', 'kobe', 'sayin']]\n",
      "\n",
      "\n",
      "['gas', 'house', 'hit', 'going', 'chapel', 'hill', 'sat', 'theo', 'walcott', 'still', 'shit', 'watch', 'rafa', 'johnny', 'deal', 'saturday', 'gsp', 'fan', 'hate', 'nick', 'diaz', 'cant', 'wait', 'february', 'iranian', 'general', 'says', 'israels', 'iron', 'dome', 'cant', 'deal', 'missiles', 'keep', 'talking', 'like', 'may', 'end', 'finding', 'tehran', 'mon', 'amour', 'obama', 'tried', 'establish', 'ties', 'mullahs', 'httptcoTZZzrrKa', 'via', 'barack', 'obama', 'vote', 'mitt', 'romney', 'sat', 'whole', 'movie', 'harry', 'ron', 'christmas', 'ohlawd', 'j', 'davlar', 'main', 'rivals', 'team', 'poland', 'hopefully', 'make', 'successful', 'end', 'tough', 'week', 'training', 'tomorrow', 'talking', 'acts', 'sats', 'deciding', 'want', 'go', 'college', 'applying', 'colleges', 'everything', 'college', 'stresses', 'happy', 'valentines', 'day', 'trending', 'february', 'june', 'smh', 'may', 'superbowl', 'dallas', 'dallas', 'aint', 'winning', 'superbowl', 'quarterback', 'owner', 'im', 'bringing', 'monster', 'load', 'candy', 'tomorrow', 'hope', 'get', 'squiched', 'apple', 'software', 'retail', 'chiefs', 'overhaul', 'san', 'francisco', 'apple', 'inc', 'ceo', 'tim', 'cook', 'monday', 'replaced', 'heads', 'watched', 'sridevis', 'comeback', 'u', 'remember', 'sun', 'mornings', 'nta', 'one', 'best', 'graders', 'kory', 'excited', 'touchdown', 'today', 'victor', 'cruz', 'lol', 'httptcotqORFrXB', 'livewire', 'nadal', 'confirmed', 'mexican', 'open', 'february', 'rafael', 'nadal', 'set', 'play', 'httptcozgUXpcnC', 'livewireathletics', 'didnt', 'want', 'pop', 'yep', 'chapel', 'hill', 'next', 'wednesday', 'come', 'shes', 'great', 'ill', 'tell', 'asked', 'hmmm', 'november', 'odd', 'release', 'date', 'true', 'becomes', 'big', 'enough', 'maybe', 'could', 'sing', 'grammys', 'iran', 'us', 'delisting', 'mko', 'global', 'terrorists', 'list', 'line', 'iran', 'campaign', 'tehran', 'oct', 'irna', 'secretary', 'serge', 'amazing', 'like', 'hes', 'actually', 'god', 'lanky', 'sex', 'god', 'saw', 'kasabian', 'noel', 'together', 'august', 'amazing', 'larry', 'bird', 'ranked', 'alltime', 'including', 'lebron', 'kobe', 'sayin']\n"
     ]
    }
   ],
   "source": [
    "ndf = df.head(20) #takes the first x entries\n",
    "\n",
    "dl = ndf.values.tolist()\n",
    "tknzr = TweetTokenizer(preserve_case=False, strip_handles=True, reduce_len=True)\n",
    "tokens = []\n",
    "fusedTokens = []\n",
    "for item in dl:\n",
    "    \n",
    "    temp = tknzr.tokenize(item[3])\n",
    "    \n",
    "    print(temp)\n",
    "    \n",
    "#     temp = [w.lower() for w in temp] #convert to lower case\n",
    "    \n",
    "    stop_words = stopwords.words('english')    #sets stop words\n",
    "    newStopWords = [\"i'm\" , \"he's\" , \"she's\" , \"we're\" , \"you're\" , \"they're\"]\n",
    "    stop_words.extend(newStopWords)\n",
    "    stop_words = set(stop_words)\n",
    "    \n",
    "    temp = [w for w in temp if not w in stop_words]  #removes stop words\n",
    "    \n",
    "    table = str.maketrans('', '', string.punctuation) #remove punctuation\n",
    "    temp = [w.translate(table) for w in temp]\n",
    "    \n",
    "    temp = [word for word in temp if word.isalpha()] #remove remaining tokens that are not alphabetic\n",
    "    \n",
    "#     porter = PorterStemmer() #stemming (not that useful)\n",
    "#     temp = [porter.stem(word) for word in temp]\n",
    "    \n",
    "    fusedTokens.extend(temp)\n",
    "    tokens.append(temp)\n",
    "    \n",
    "print(\"\\n\")\n",
    "print(tokens)\n",
    "print(\"\\n\")\n",
    "print(fusedTokens)"
   ]
  },
  {
   "cell_type": "code",
   "execution_count": 37,
   "metadata": {},
   "outputs": [
    {
     "name": "stdout",
     "output_type": "stream",
     "text": [
      "[('february', 3), ('chapel', 2), ('hill', 2), ('sat', 2), ('deal', 2), ('cant', 2), ('talking', 2), ('like', 2), ('may', 2), ('end', 2)]\n"
     ]
    }
   ],
   "source": [
    "count = Counter(fusedTokens)\n",
    "print(count.most_common(10))"
   ]
  },
  {
   "cell_type": "code",
   "execution_count": null,
   "metadata": {},
   "outputs": [],
   "source": []
  }
 ],
 "metadata": {
  "kernelspec": {
   "display_name": "Python 3",
   "language": "python",
   "name": "python3"
  },
  "language_info": {
   "codemirror_mode": {
    "name": "ipython",
    "version": 3
   },
   "file_extension": ".py",
   "mimetype": "text/x-python",
   "name": "python",
   "nbconvert_exporter": "python",
   "pygments_lexer": "ipython3",
   "version": "3.7.3"
  }
 },
 "nbformat": 4,
 "nbformat_minor": 2
}
